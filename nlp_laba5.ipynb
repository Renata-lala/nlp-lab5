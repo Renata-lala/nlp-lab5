{
  "nbformat": 4,
  "nbformat_minor": 0,
  "metadata": {
    "colab": {
      "provenance": []
    },
    "kernelspec": {
      "name": "python3",
      "display_name": "Python 3"
    },
    "language_info": {
      "name": "python"
    }
  },
  "cells": [
    {
      "cell_type": "code",
      "execution_count": 1,
      "metadata": {
        "colab": {
          "base_uri": "https://localhost:8080/"
        },
        "id": "eboThJkNQgIC",
        "outputId": "8a90d7cc-23c5-4e3a-a8f2-ddf8ecfda2d8"
      },
      "outputs": [
        {
          "output_type": "execute_result",
          "data": {
            "text/plain": [
              "<torch._C.Generator at 0x7f6c2567cb30>"
            ]
          },
          "metadata": {},
          "execution_count": 1
        }
      ],
      "source": [
        "from sys import argv\n",
        "import numpy as np\n",
        "import torch\n",
        "from transformers import GPT2LMHeadModel, GPT2Tokenizer\n",
        "np.random.seed(42)\n",
        "torch.manual_seed(42)"
      ]
    },
    {
      "cell_type": "code",
      "source": [
        "def load_model_and_tokenizer(model_name_or_path):\n",
        "    return GPT2Tokenizer.from_pretrained(model_name_or_path), GPT2LMHeadModel.from_pretrained(model_name_or_path)"
      ],
      "metadata": {
        "id": "5uszDX3ASiiz"
      },
      "execution_count": 2,
      "outputs": []
    },
    {
      "cell_type": "code",
      "source": [
        "def generate(\n",
        "            model, tok, text,\n",
        "            do_sample=True, max_length=500, repetition_penalty=2.0,\n",
        "            top_k=1, top_p=0.9, temperature=0.6,\n",
        "            num_beams=3,\n",
        "            no_repeat_ngram_size=3\n",
        "            ):\n",
        "          input_ids = tok.encode(text, return_tensors=\"pt\")\n",
        "          print(model.generate.__globals__['__file__'])\n",
        "          out = model.generate(\n",
        "              input_ids,\n",
        "              max_length=max_length,\n",
        "              repetition_penalty=repetition_penalty,\n",
        "              do_sample=do_sample,\n",
        "              top_k=top_k, top_p=top_p, temperature=temperature,\n",
        "              num_beams=num_beams, no_repeat_ngram_size=no_repeat_ngram_size\n",
        "              )\n",
        "          return list(map(tok.decode, out))"
      ],
      "metadata": {
        "id": "lwCw14m1Q3YF"
      },
      "execution_count": 57,
      "outputs": []
    },
    {
      "cell_type": "markdown",
      "source": [
        "слова \"смысл\" и \"человек\""
      ],
      "metadata": {
        "id": "7VcTg9PxY4Mv"
      }
    },
    {
      "cell_type": "code",
      "source": [
        "examples = (\n",
        "    \"Вопрос: Каково значение жизни для индивида?\\n\"\n",
        "    \"Ответ: Многие задаются вопросом о том, что важно в жизни и как это связано с личными целями.\\n\"\n",
        ")\n",
        "\n",
        "text = examples + \"Многие философы задаются вопросом вкаладывает в эти слова  о том, какой\"\n"
      ],
      "metadata": {
        "id": "S7Gtl52yV2tQ"
      },
      "execution_count": 59,
      "outputs": []
    },
    {
      "cell_type": "code",
      "source": [
        "# Альтернативно \"ai-forever/ruGPT-3.5-13B\"\n",
        "tok, model = load_model_and_tokenizer(\"sberbank-ai/rugpt3large_based_on_gpt2\")\n",
        "generated = generate(model, tok, text, num_beams=1)\n",
        "print(generated[0])\n"
      ],
      "metadata": {
        "colab": {
          "base_uri": "https://localhost:8080/"
        },
        "id": "M-B8ugHYQ0AN",
        "outputId": "40d574c7-d28f-4d94-b18b-c2faacabc546"
      },
      "execution_count": 60,
      "outputs": [
        {
          "output_type": "stream",
          "name": "stdout",
          "text": [
            "/usr/local/lib/python3.10/dist-packages/torch/utils/_contextlib.py\n",
            "Вопрос: Каково значение жизни для индивида?\n",
            "Ответ: Многие задаются вопросом о том, что важно в жизни и как это связано с личными целями.\n",
            "Многие философы задаются вопросом вкаладывает в эти слова  о том, какой смысл имеет жизнь человека или его предназначение на земле. И ответ у них один - человек должен жить ради себя самого, а не только потому чтобы выжить самому!<s>\n",
            "Какие есть способы заработать деньги без вложений? (без обмана) Как можно зарабатывать большие суммы денег за короткий срок??? Какие существуют методы заработка больших сумм денежных средств?? Что нужно делать чтоб получить большую сумму денежек от людей которые хотят их вам дать?! Ответьте пожалуйста!!! Заранее спасибо! С уважением к Вам Александр!!..)))))... \n",
            " Здравствуйте уважаемые читатели блога \"Блогун\". Сегодня я хочу поговорить об одном из способов получения дохода – инвестировании своих собственных сбережений под проценты через интернет-банкинг Сбербанка России по адресу http://www2bankingrukonline/credit/. Этот способ является самым простым способом вложения ваших личных накоплений во вклады до востребования сроком более года при условии открытия счета онлайн банка Сбербанк Онлайн https : / www 2 b banki ru kontaktu sberbaums zabotaet vsego podderzhki odnoklassnikov na dengie i nezavisimost'e teper egoshaftychnykh goroda yuristikh stranakh... В этом случае вы можете получать доход ежемесячно равный сумме вашего депозита плюс процентная ставка + комиссия брокера который будет осуществлять операции со средствами вкладчиков.. Если же ваш депозит превышает 1 млн рублей то сумма процентов составит 0% годовых.... Для того кто хочет начать свой бизнес необходимо открыть счет Яндекс Деньги — [email protected] ; далее выбрать раздел «Пополнение» затем нажать кнопку пополнения; после этого откроется окно ввода данных карты VISA MasterCard любого российского Банка(в тч Сберегательного); если карта выпущена Сбербанком РФ нажмите ссылку перевести средства между картами Visa Classicи Standardсчетов других банков выберите любой банк где открыт Ваш счёт Выберете пункт переводом наличных USD$5000+1=1500 руб.; Далее выбираете карту которую хотите использовать дальше нажимаем ОК.... После перевода всех необходимых реквизитов система автоматически переведет ваши денежные накопления обратно мне..... Я рекомендую этот метод\n"
          ]
        }
      ]
    }
  ]
}